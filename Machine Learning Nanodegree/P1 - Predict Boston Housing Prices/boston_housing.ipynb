{
 "cells": [
  {
   "cell_type": "code",
   "execution_count": 2,
   "metadata": {
    "collapsed": true
   },
   "outputs": [],
   "source": [
    "# Load libraries\n",
    "import numpy as np\n",
    "import pylab as pl\n",
    "from sklearn import datasets\n",
    "from sklearn import cross_validation\n",
    "from sklearn.tree import DecisionTreeRegressor\n",
    "from sklearn.metrics import mean_squared_error\n",
    "from sklearn import grid_search"
   ]
  },
  {
   "cell_type": "code",
   "execution_count": 3,
   "metadata": {
    "collapsed": true
   },
   "outputs": [],
   "source": [
    "def load_data():\n",
    "    \"\"\"Load the Boston dataset.\"\"\"\n",
    "    boston = datasets.load_boston()\n",
    "    return boston"
   ]
  },
  {
   "cell_type": "code",
   "execution_count": 4,
   "metadata": {
    "collapsed": true
   },
   "outputs": [],
   "source": [
    "def explore_city_data(city_data):\n",
    "    \"\"\"Calculate the Boston housing statistics.\"\"\"\n",
    "\n",
    "    # Get the labels and features from the housing data\n",
    "    housing_prices = city_data.target\n",
    "    housing_features = city_data.data\n",
    "\n",
    "    ###################################\n",
    "    ### Step 1. YOUR CODE GOES HERE ###\n",
    "    ###################################\n",
    "    \n",
    "    # Please calculate the following values using the Numpy library\n",
    "    # Size of data (number of houses)?\n",
    "    print \"Size of Data: %s\" % np.size(city_data.target)\n",
    "    # Number of features?\n",
    "    print \"Number of features: %s\" % np.size(city_data.feature_names)\n",
    "    # Minimum price?\n",
    "    print \"Minimum Price: %s\" % np.min(city_data.target)\n",
    "    # Maximum price?\n",
    "    print \"Maximum Price: %s\" % np.max(city_data.target)\n",
    "    # Calculate mean price?\n",
    "    print \"Mean Price: %s\" % np.mean(city_data.target)\n",
    "    # Calculate median price?\n",
    "    print \"Median Price: %s\" % np.median(city_data.target)\n",
    "    # Calculate standard deviation?\n",
    "    print \"Standard Deviation Price: %s\" % np.std(city_data.target)"
   ]
  },
  {
   "cell_type": "code",
   "execution_count": 5,
   "metadata": {
    "collapsed": true
   },
   "outputs": [],
   "source": [
    "def split_data(city_data):\n",
    "    \"\"\"Randomly shuffle the sample set. Divide it into 70 percent training and 30 percent testing data.\"\"\"\n",
    "\n",
    "    # Get the features and labels from the Boston housing data\n",
    "    X, y = city_data.data, city_data.target\n",
    "\n",
    "    ###################################\n",
    "    ### Step 2. YOUR CODE GOES HERE ###\n",
    "    ###################################\n",
    "    \n",
    "    # Split data into train and test via cross_validation from sklearn\n",
    "    X_train, X_test, y_train, y_test = cross_validation.train_test_split(X,y,test_size=0.3,random_state=0)\n",
    "    \n",
    "    return X_train, y_train, X_test, y_test"
   ]
  },
  {
   "cell_type": "code",
   "execution_count": 6,
   "metadata": {
    "collapsed": false
   },
   "outputs": [],
   "source": [
    "def performance_metric(label, prediction):\n",
    "    \"\"\"Calculate and return the appropriate error performance metric.\"\"\"\n",
    "\n",
    "    ###################################\n",
    "    ### Step 3. YOUR CODE GOES HERE ###\n",
    "    ###################################\n",
    "    \n",
    "    score = mean_squared_error(label, prediction)\n",
    "\n",
    "    # The following page has a table of scoring functions in sklearn:\n",
    "    # http://scikit-learn.org/stable/modules/classes.html#sklearn-metrics-metrics\n",
    "    return score"
   ]
  },
  {
   "cell_type": "code",
   "execution_count": 7,
   "metadata": {
    "collapsed": true
   },
   "outputs": [],
   "source": [
    "def learning_curve(depth, X_train, y_train, X_test, y_test):\n",
    "    \"\"\"Calculate the performance of the model after a set of training data.\"\"\"\n",
    "\n",
    "    # We will vary the training set size so that we have 50 different sizes\n",
    "    sizes = np.round(np.linspace(1, len(X_train), 50))\n",
    "    train_err = np.zeros(len(sizes))\n",
    "    test_err = np.zeros(len(sizes))\n",
    "\n",
    "    print \"Decision Tree with Max Depth: \"\n",
    "    print depth\n",
    "\n",
    "    for i, s in enumerate(sizes):\n",
    "\n",
    "        # Create and fit the decision tree regressor model\n",
    "        regressor = DecisionTreeRegressor(max_depth=depth)\n",
    "        regressor.fit(X_train[:s], y_train[:s])\n",
    "\n",
    "        # Find the performance on the training and testing set\n",
    "        train_err[i] = performance_metric(y_train[:s], regressor.predict(X_train[:s]))\n",
    "        test_err[i] = performance_metric(y_test, regressor.predict(X_test))\n",
    "\n",
    "\n",
    "    # Plot learning curve graph\n",
    "    learning_curve_graph(sizes, train_err, test_err)"
   ]
  },
  {
   "cell_type": "code",
   "execution_count": 8,
   "metadata": {
    "collapsed": true
   },
   "outputs": [],
   "source": [
    "def learning_curve_graph(sizes, train_err, test_err):\n",
    "    \"\"\"Plot training and test error as a function of the training size.\"\"\"\n",
    "\n",
    "    pl.figure()\n",
    "    pl.title('Decision Trees: Performance vs Training Size')\n",
    "    pl.plot(sizes, test_err, lw=2, label = 'test error')\n",
    "    pl.plot(sizes, train_err, lw=2, label = 'training error')\n",
    "    pl.legend()\n",
    "    pl.xlabel('Training Size')\n",
    "    pl.ylabel('Error')\n",
    "    pl.show()"
   ]
  },
  {
   "cell_type": "code",
   "execution_count": 9,
   "metadata": {
    "collapsed": true
   },
   "outputs": [],
   "source": [
    "def model_complexity(X_train, y_train, X_test, y_test):\n",
    "    \"\"\"Calculate the performance of the model as model complexity increases.\"\"\"\n",
    "\n",
    "    print \"Model Complexity: \"\n",
    "\n",
    "    # We will vary the depth of decision trees from 2 to 25\n",
    "    max_depth = np.arange(1, 25)\n",
    "    train_err = np.zeros(len(max_depth))\n",
    "    test_err = np.zeros(len(max_depth))\n",
    "\n",
    "    for i, d in enumerate(max_depth):\n",
    "        # Setup a Decision Tree Regressor so that it learns a tree with depth d\n",
    "        regressor = DecisionTreeRegressor(max_depth=d)\n",
    "\n",
    "        # Fit the learner to the training data\n",
    "        regressor.fit(X_train, y_train)\n",
    "\n",
    "        # Find the performance on the training set\n",
    "        train_err[i] = performance_metric(y_train, regressor.predict(X_train))\n",
    "\n",
    "        # Find the performance on the testing set\n",
    "        test_err[i] = performance_metric(y_test, regressor.predict(X_test))\n",
    "\n",
    "    # Plot the model complexity graph\n",
    "    model_complexity_graph(max_depth, train_err, test_err)"
   ]
  },
  {
   "cell_type": "code",
   "execution_count": 10,
   "metadata": {
    "collapsed": true
   },
   "outputs": [],
   "source": [
    "def model_complexity_graph(max_depth, train_err, test_err):\n",
    "    \"\"\"Plot training and test error as a function of the depth of the decision tree learn.\"\"\"\n",
    "\n",
    "    pl.figure()\n",
    "    pl.title('Decision Trees: Performance vs Max Depth')\n",
    "    pl.plot(max_depth, test_err, lw=2, label = 'test error')\n",
    "    pl.plot(max_depth, train_err, lw=2, label = 'training error')\n",
    "    pl.legend()\n",
    "    pl.xlabel('Max Depth')\n",
    "    pl.ylabel('Error')\n",
    "    pl.show()"
   ]
  },
  {
   "cell_type": "code",
   "execution_count": 11,
   "metadata": {
    "collapsed": true
   },
   "outputs": [],
   "source": [
    "def fit_predict_model(city_data):\n",
    "    \"\"\"Find and tune the optimal model. Make a prediction on housing data.\"\"\"\n",
    "\n",
    "    # Get the features and labels from the Boston housing data\n",
    "    X, y = city_data.data, city_data.target\n",
    "\n",
    "    # Setup a Decision Tree Regressor\n",
    "    regressor = DecisionTreeRegressor()\n",
    "\n",
    "    parameters = {'max_depth':(1,2,3,4,5,6,7,8,9,10)}\n",
    "\n",
    "    ###################################\n",
    "    ### Step 4. YOUR CODE GOES HERE ###\n",
    "    ###################################\n",
    "\n",
    "    # 1. Find an appropriate performance metric. This should be the same as the\n",
    "    # one used in your performance_metric procedure above:\n",
    "    # http://scikit-learn.org/stable/modules/generated/sklearn.metrics.make_scorer.html\n",
    "\n",
    "    # 2. We will use grid search to fine tune the Decision Tree Regressor and\n",
    "    # obtain the parameters that generate the best training performance. Set up\n",
    "    # the grid search object here.\n",
    "    # http://scikit-learn.org/stable/modules/generated/sklearn.grid_search.GridSearchCV.html#sklearn.grid_search.GridSearchCV\n",
    "\n",
    "    # Grid Search set up\n",
    "    reg = grid_search.GridSearchCV(regressor, parameters)    \n",
    "    \n",
    "    # Fit the learner to the training data to obtain the best parameter set\n",
    "    print \"Final Model: \"\n",
    "    print reg.fit(X, y)\n",
    "    \n",
    "    # Use the model to predict the output of a particular sample\n",
    "    x = [11.95, 0.00, 18.100, 0, 0.6590, 5.6090, 90.00, 1.385, 24, 680.0, 20.20, 332.09, 12.13]\n",
    "    y = reg.predict(x)\n",
    "    print \"House: \" + str(x)\n",
    "    print \"Prediction: \" + str(y)"
   ]
  },
  {
   "cell_type": "code",
   "execution_count": 12,
   "metadata": {
    "collapsed": false
   },
   "outputs": [],
   "source": [
    "#In the case of the documentation page for GridSearchCV, it might be the case that the example is just a demonstration of syntax for use of the function, rather than a statement about \n",
    "def main():\n",
    "    \"\"\"Analyze the Boston housing data. Evaluate and validate the\n",
    "    performanance of a Decision Tree regressor on the housing data.\n",
    "    Fine tune the model to make prediction on unseen data.\"\"\"\n",
    "\n",
    "    # Load data\n",
    "    city_data = load_data()\n",
    "\n",
    "    # Explore the data\n",
    "    explore_city_data(city_data)\n",
    "\n",
    "    # Training/Test dataset split\n",
    "    X_train, y_train, X_test, y_test = split_data(city_data)\n",
    "\n",
    "    # Learning Curve Graphs\n",
    "    max_depths = [1,2,3,4,5,6,7,8,9,10]\n",
    "    for max_depth in max_depths:\n",
    "        learning_curve(max_depth, X_train, y_train, X_test, y_test)\n",
    "\n",
    "    # Model Complexity Graph\n",
    "    model_complexity(X_train, y_train, X_test, y_test)\n",
    "\n",
    "    # Tune and predict Model\n",
    "    fit_predict_model(city_data)"
   ]
  },
  {
   "cell_type": "code",
   "execution_count": 13,
   "metadata": {
    "collapsed": false
   },
   "outputs": [
    {
     "name": "stdout",
     "output_type": "stream",
     "text": [
      "Size of Data: 506\n",
      "Number of features: 13\n",
      "Minimum Price: 5.0\n",
      "Maximum Price: 50.0\n",
      "Mean Price: 22.5328063241\n",
      "Median Price: 21.2\n",
      "Standard Deviation Price: 9.18801154528\n",
      "Decision Tree with Max Depth: \n",
      "1\n",
      "Decision Tree with Max Depth: \n",
      "2\n",
      "Decision Tree with Max Depth: \n",
      "3\n",
      "Decision Tree with Max Depth: \n",
      "4\n",
      "Decision Tree with Max Depth: \n",
      "5\n",
      "Decision Tree with Max Depth: \n",
      "6\n",
      "Decision Tree with Max Depth: \n",
      "7\n",
      "Decision Tree with Max Depth: \n",
      "8\n",
      "Decision Tree with Max Depth: \n",
      "9\n",
      "Decision Tree with Max Depth: \n",
      "10\n",
      "Model Complexity: \n",
      "Final Model: \n",
      "GridSearchCV(cv=None, error_score='raise',\n",
      "       estimator=DecisionTreeRegressor(criterion='mse', max_depth=None, max_features=None,\n",
      "           max_leaf_nodes=None, min_samples_leaf=1, min_samples_split=2,\n",
      "           min_weight_fraction_leaf=0.0, presort=False, random_state=None,\n",
      "           splitter='best'),\n",
      "       fit_params={}, iid=True, n_jobs=1,\n",
      "       param_grid={'max_depth': (1, 2, 3, 4, 5, 6, 7, 8, 9, 10)},\n",
      "       pre_dispatch='2*n_jobs', refit=True, scoring=None, verbose=0)"
     ]
    },
    {
     "name": "stderr",
     "output_type": "stream",
     "text": [
      "/usr/local/lib/python2.7/site-packages/ipykernel/__main__.py:16: DeprecationWarning: using a non-integer number instead of an integer will result in an error in the future\n",
      "/usr/local/lib/python2.7/site-packages/ipykernel/__main__.py:19: DeprecationWarning: using a non-integer number instead of an integer will result in an error in the future\n",
      "/Library/Python/2.7/site-packages/sklearn/utils/validation.py:386: DeprecationWarning: Passing 1d arrays as data is deprecated in 0.17 and willraise ValueError in 0.19. Reshape your data either using X.reshape(-1, 1) if your data has a single feature or X.reshape(1, -1) if it contains a single sample.\n",
      "  DeprecationWarning)\n"
     ]
    },
    {
     "name": "stdout",
     "output_type": "stream",
     "text": [
      "\n",
      "House: [11.95, 0.0, 18.1, 0, 0.659, 5.609, 90.0, 1.385, 24, 680.0, 20.2, 332.09, 12.13]\n",
      "Prediction: [ 21.62974359]\n"
     ]
    }
   ],
   "source": [
    "if __name__ == \"__main__\":\n",
    "    main()"
   ]
  },
  {
   "cell_type": "code",
   "execution_count": null,
   "metadata": {
    "collapsed": true
   },
   "outputs": [],
   "source": []
  }
 ],
 "metadata": {
  "kernelspec": {
   "display_name": "Python 2",
   "language": "python",
   "name": "python2"
  },
  "language_info": {
   "codemirror_mode": {
    "name": "ipython",
    "version": 2
   },
   "file_extension": ".py",
   "mimetype": "text/x-python",
   "name": "python",
   "nbconvert_exporter": "python",
   "pygments_lexer": "ipython2",
   "version": "2.7.10"
  }
 },
 "nbformat": 4,
 "nbformat_minor": 0
}
