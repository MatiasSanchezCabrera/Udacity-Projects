{
 "cells": [
  {
   "cell_type": "code",
   "execution_count": 177,
   "metadata": {
    "collapsed": true
   },
   "outputs": [],
   "source": [
    "from riotwatcher import RiotWatcher\n",
    "import time\n",
    "import os\n",
    "w = RiotWatcher('b6a1a049-887c-4b5e-bc1f-404b5a43e48d',default_region='las')"
   ]
  },
  {
   "cell_type": "code",
   "execution_count": 178,
   "metadata": {
    "collapsed": true
   },
   "outputs": [],
   "source": [
    "# Check if player's recent games had been saved previously\n",
    "def check_file_exists(path):\n",
    "    try:\n",
    "        open(path,'r')\n",
    "        print 'Repeated Player'\n",
    "        return False\n",
    "    except IOError:\n",
    "        return True        "
   ]
  },
  {
   "cell_type": "code",
   "execution_count": 179,
   "metadata": {
    "collapsed": false
   },
   "outputs": [],
   "source": [
    "# Save the last ranked games for a specific player\n",
    "# and retrieve the fellow players\n",
    "def save_similar_games(player_id): \n",
    "    similar_players = []\n",
    "    ranked_games = []\n",
    "    try:\n",
    "        rgames = w.get_recent_games(player_id)\n",
    "    except LoLException:\n",
    "        return similar_players\n",
    "    for game in rgames['games']:\n",
    "        if (game['subType']=='RANKED_SOLO_5x5' or game['subType']=='RANKED_PREMADE_5x5'):\n",
    "            ranked_games.append(game['gameId'])\n",
    "        try:\n",
    "            for player in game['fellowPlayers']:\n",
    "                similar_players.append(player['summonerId'])\n",
    "        except KeyError:\n",
    "            print 'No fellow Players'\n",
    "    # Save file with ranked games\n",
    "    path = str(os.getcwd()) + \"/Player Games/\" + str(player_id) + \".txt\"\n",
    "    if check_file_exists(path):\n",
    "        with open(path, \"w\") as text_file:\n",
    "            for games in ranked_games:\n",
    "                text_file.write(\"%s\\n\" % str(games))\n",
    "            text_file.close()            \n",
    "        return similar_players\n",
    "    else:\n",
    "        return similar_players"
   ]
  },
  {
   "cell_type": "code",
   "execution_count": 180,
   "metadata": {
    "collapsed": false
   },
   "outputs": [],
   "source": [
    "def run(player):\n",
    "    new_players = save_similar_games(player)\n",
    "    more_players = []\n",
    "    for players in new_players:\n",
    "        path = str(os.getcwd()) + \"/Player Games/\" + str(players) + \".txt\"\n",
    "        if check_file_exists(path):\n",
    "            time.sleep(1.2)\n",
    "            more_players.append(save_similar_games(players))\n",
    "    return more_players"
   ]
  },
  {
   "cell_type": "code",
   "execution_count": 183,
   "metadata": {
    "collapsed": false
   },
   "outputs": [],
   "source": [
    "# Start with a specific player\n",
    "player = w.get_summoner(name='Piti')"
   ]
  },
  {
   "cell_type": "code",
   "execution_count": 184,
   "metadata": {
    "collapsed": false,
    "scrolled": true
   },
   "outputs": [
    {
     "name": "stdout",
     "output_type": "stream",
     "text": [
      "Repeated Player\n",
      "Repeated Player\n",
      "No fellow Players\n",
      "Repeated Player\n",
      "Repeated Player\n",
      "Repeated Player\n",
      "Repeated Player\n",
      "Repeated Player\n",
      "Repeated Player\n",
      "Repeated Player\n",
      "Repeated Player\n",
      "Repeated Player\n",
      "Repeated Player\n",
      "Repeated Player\n",
      "Repeated Player\n",
      "Repeated Player\n",
      "Repeated Player\n",
      "Repeated Player\n",
      "Repeated Player\n",
      "Repeated Player\n",
      "Repeated Player\n",
      "Repeated Player\n",
      "Repeated Player\n",
      "Repeated Player\n",
      "Repeated Player\n",
      "Repeated Player\n",
      "Repeated Player\n",
      "Repeated Player\n",
      "Repeated Player\n",
      "Repeated Player\n",
      "Repeated Player\n",
      "Repeated Player\n",
      "Repeated Player\n",
      "Repeated Player\n",
      "Repeated Player\n",
      "Repeated Player\n",
      "Repeated Player\n",
      "Repeated Player\n",
      "Repeated Player\n",
      "Repeated Player\n",
      "Repeated Player\n",
      "Repeated Player\n",
      "Repeated Player\n",
      "Repeated Player\n",
      "Repeated Player\n",
      "Repeated Player\n",
      "Repeated Player\n",
      "Repeated Player\n",
      "Repeated Player\n",
      "Repeated Player\n",
      "Repeated Player\n",
      "Repeated Player\n",
      "Repeated Player\n",
      "Repeated Player\n",
      "Repeated Player\n",
      "Repeated Player\n",
      "Repeated Player\n",
      "Repeated Player\n",
      "Repeated Player\n",
      "Repeated Player\n",
      "Repeated Player\n",
      "Repeated Player\n",
      "Repeated Player\n",
      "Repeated Player\n",
      "No fellow Players\n",
      "No fellow Players\n",
      "No fellow Players\n",
      "Repeated Player\n",
      "Repeated Player\n",
      "Repeated Player\n",
      "Repeated Player\n",
      "Repeated Player\n",
      "Repeated Player\n",
      "Repeated Player\n",
      "Repeated Player\n",
      "Repeated Player\n",
      "Repeated Player\n",
      "Repeated Player\n",
      "Repeated Player\n",
      "Repeated Player\n",
      "Repeated Player\n",
      "No fellow Players\n",
      "No fellow Players\n",
      "Repeated Player\n",
      "Repeated Player\n",
      "Repeated Player\n",
      "Repeated Player\n",
      "Repeated Player\n",
      "Repeated Player\n",
      "Repeated Player\n",
      "Repeated Player\n",
      "Repeated Player\n",
      "Repeated Player\n",
      "Repeated Player\n",
      "Repeated Player\n",
      "Repeated Player\n",
      "Repeated Player\n",
      "Repeated Player\n",
      "Repeated Player\n",
      "Repeated Player\n",
      "Repeated Player\n",
      "Repeated Player\n",
      "Repeated Player\n",
      "Repeated Player\n",
      "Repeated Player\n",
      "No fellow Players\n",
      "No fellow Players\n",
      "No fellow Players\n",
      "Repeated Player\n",
      "Repeated Player\n",
      "Repeated Player\n",
      "Repeated Player\n",
      "Repeated Player\n",
      "Repeated Player\n",
      "Repeated Player\n",
      "No fellow Players\n",
      "Repeated Player\n",
      "Repeated Player\n",
      "Repeated Player\n",
      "Repeated Player\n",
      "Repeated Player\n",
      "Repeated Player\n",
      "Repeated Player\n",
      "Repeated Player\n",
      "Repeated Player\n",
      "Repeated Player\n",
      "Repeated Player\n",
      "Repeated Player\n",
      "Repeated Player\n",
      "No fellow Players\n",
      "Repeated Player\n",
      "Repeated Player\n"
     ]
    },
    {
     "ename": "NameError",
     "evalue": "global name 'LoLException' is not defined",
     "output_type": "error",
     "traceback": [
      "\u001b[0;31m---------------------------------------------------------------------------\u001b[0m",
      "\u001b[0;31mNameError\u001b[0m                                 Traceback (most recent call last)",
      "\u001b[0;32m<ipython-input-184-4c240cdfd0d5>\u001b[0m in \u001b[0;36m<module>\u001b[0;34m()\u001b[0m\n\u001b[1;32m      2\u001b[0m \u001b[0;32mfor\u001b[0m \u001b[0msample\u001b[0m \u001b[0;32min\u001b[0m \u001b[0mbig_sample\u001b[0m\u001b[0;34m:\u001b[0m\u001b[0;34m\u001b[0m\u001b[0m\n\u001b[1;32m      3\u001b[0m     \u001b[0;32mfor\u001b[0m \u001b[0mone\u001b[0m \u001b[0;32min\u001b[0m \u001b[0msample\u001b[0m\u001b[0;34m:\u001b[0m\u001b[0;34m\u001b[0m\u001b[0m\n\u001b[0;32m----> 4\u001b[0;31m         \u001b[0mrun\u001b[0m\u001b[0;34m(\u001b[0m\u001b[0mone\u001b[0m\u001b[0;34m)\u001b[0m\u001b[0;34m\u001b[0m\u001b[0m\n\u001b[0m",
      "\u001b[0;32m<ipython-input-180-d63e5c5e6a34>\u001b[0m in \u001b[0;36mrun\u001b[0;34m(player)\u001b[0m\n\u001b[1;32m      6\u001b[0m         \u001b[0;32mif\u001b[0m \u001b[0mcheck_file_exists\u001b[0m\u001b[0;34m(\u001b[0m\u001b[0mpath\u001b[0m\u001b[0;34m)\u001b[0m\u001b[0;34m:\u001b[0m\u001b[0;34m\u001b[0m\u001b[0m\n\u001b[1;32m      7\u001b[0m             \u001b[0mtime\u001b[0m\u001b[0;34m.\u001b[0m\u001b[0msleep\u001b[0m\u001b[0;34m(\u001b[0m\u001b[0;36m1.2\u001b[0m\u001b[0;34m)\u001b[0m\u001b[0;34m\u001b[0m\u001b[0m\n\u001b[0;32m----> 8\u001b[0;31m             \u001b[0mmore_players\u001b[0m\u001b[0;34m.\u001b[0m\u001b[0mappend\u001b[0m\u001b[0;34m(\u001b[0m\u001b[0msave_similar_games\u001b[0m\u001b[0;34m(\u001b[0m\u001b[0mplayers\u001b[0m\u001b[0;34m)\u001b[0m\u001b[0;34m)\u001b[0m\u001b[0;34m\u001b[0m\u001b[0m\n\u001b[0m\u001b[1;32m      9\u001b[0m     \u001b[0;32mreturn\u001b[0m \u001b[0mmore_players\u001b[0m\u001b[0;34m\u001b[0m\u001b[0m\n",
      "\u001b[0;32m<ipython-input-179-35128f1aede4>\u001b[0m in \u001b[0;36msave_similar_games\u001b[0;34m(player_id)\u001b[0m\n\u001b[1;32m      6\u001b[0m     \u001b[0;32mtry\u001b[0m\u001b[0;34m:\u001b[0m\u001b[0;34m\u001b[0m\u001b[0m\n\u001b[1;32m      7\u001b[0m         \u001b[0mrgames\u001b[0m \u001b[0;34m=\u001b[0m \u001b[0mw\u001b[0m\u001b[0;34m.\u001b[0m\u001b[0mget_recent_games\u001b[0m\u001b[0;34m(\u001b[0m\u001b[0mplayer_id\u001b[0m\u001b[0;34m)\u001b[0m\u001b[0;34m\u001b[0m\u001b[0m\n\u001b[0;32m----> 8\u001b[0;31m     \u001b[0;32mexcept\u001b[0m \u001b[0mLoLException\u001b[0m\u001b[0;34m:\u001b[0m\u001b[0;34m\u001b[0m\u001b[0m\n\u001b[0m\u001b[1;32m      9\u001b[0m         \u001b[0;32mreturn\u001b[0m \u001b[0msimilar_players\u001b[0m\u001b[0;34m\u001b[0m\u001b[0m\n\u001b[1;32m     10\u001b[0m     \u001b[0;32mfor\u001b[0m \u001b[0mgame\u001b[0m \u001b[0;32min\u001b[0m \u001b[0mrgames\u001b[0m\u001b[0;34m[\u001b[0m\u001b[0;34m'games'\u001b[0m\u001b[0;34m]\u001b[0m\u001b[0;34m:\u001b[0m\u001b[0;34m\u001b[0m\u001b[0m\n",
      "\u001b[0;31mNameError\u001b[0m: global name 'LoLException' is not defined"
     ]
    }
   ],
   "source": [
    "big_sample = run(player['id'])\n",
    "for sample in big_sample:\n",
    "    for one in sample:\n",
    "        run(one)"
   ]
  },
  {
   "cell_type": "raw",
   "metadata": {},
   "source": []
  }
 ],
 "metadata": {
  "kernelspec": {
   "display_name": "Python 2",
   "language": "python",
   "name": "python2"
  },
  "language_info": {
   "codemirror_mode": {
    "name": "ipython",
    "version": 2
   },
   "file_extension": ".py",
   "mimetype": "text/x-python",
   "name": "python",
   "nbconvert_exporter": "python",
   "pygments_lexer": "ipython2",
   "version": "2.7.11"
  }
 },
 "nbformat": 4,
 "nbformat_minor": 0
}
